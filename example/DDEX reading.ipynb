{
 "cells": [
  {
   "cell_type": "code",
   "execution_count": 1,
   "metadata": {
    "collapsed": false
   },
   "outputs": [
    {
     "name": "stdout",
     "output_type": "stream",
     "text": [
      "Parsing XML file in /srv/git/ddexreader/fixtures/ern36.xml\n"
     ]
    }
   ],
   "source": [
    "try:\n",
    "    from ddexreader import open_ddex, ddex_to_dict\n",
    "except ImportError:\n",
    "    # If ddexreader has not been installed, add the parent directory\n",
    "    # to the system path\n",
    "    import sys\n",
    "    sys.path.append('..')\n",
    "    from ddexreader import open_ddex, ddex_to_dict\n",
    "\n",
    "import os\n",
    "\n",
    "xml_path = os.path.abspath(os.path.join(os.getcwdu(), '..', 'fixtures/ern36.xml'))\n",
    "\n",
    "print u'Parsing XML file in {0}'.format(xml_path)\n",
    "\n",
    "ddex = open_ddex(xml_path)\n",
    "ddex_dict = ddex_to_dict(ddex)"
   ]
  },
  {
   "cell_type": "code",
   "execution_count": 2,
   "metadata": {
    "collapsed": false
   },
   "outputs": [
    {
     "name": "stdout",
     "output_type": "stream",
     "text": [
      "<ern36.binding.CTD_ANON object at 0x7f51fc80f3d0>\n",
      "['BusinessProfileVersionId', 'CatalogTransfer', 'CollectionList', 'CueSheetList', 'DealList', 'Factory', 'IsBackfill', 'LanguageAndScriptCode', 'MessageHeader', 'MessageSchemaVersionId', 'ReleaseList', 'ReleaseProfileVersionId', 'ResourceList', 'UpdateIndicator', 'WorkList', '_Abstract', '_AddElement', '_AlternativeConstructor', '_AttributeMap', '_AttributeWildcard', '_Automaton', '_CTD_ANON__BusinessProfileVersionId', '_CTD_ANON__CatalogTransfer', '_CTD_ANON__CollectionList', '_CTD_ANON__CueSheetList', '_CTD_ANON__DealList', '_CTD_ANON__IsBackfill', '_CTD_ANON__LanguageAndScriptCode', '_CTD_ANON__MessageHeader', '_CTD_ANON__MessageSchemaVersionId', '_CTD_ANON__ReleaseList', '_CTD_ANON__ReleaseProfileVersionId', '_CTD_ANON__ResourceList', '_CTD_ANON__UpdateIndicator', '_CTD_ANON__WorkList', '_CT_ELEMENT_ONLY', '_CT_EMPTY', '_CT_MIXED', '_CT_SIMPLE', '_CompatibleValue', '_ContentTypeTag', '_DynamicCreate', '_DynamicCreate_mixin__AlternativeConstructorAttribute', '_DynamicCreate_mixin__SupersedingClassAttribute', '_ElementBindingDeclForName', '_ElementMap', '_ExpandedName', '_GetValidationConfig', '_HasWildcardElement', '_IsMixed', '_IsSimpleTypeContent', '_IsUrType', '_Locatable_mixin__location', '_Name', '_PerformValidation', '_PreFactory_vx', '_PyXBFactoryKeywords', '_RequireXSIType', '_ReservedSymbols', '_SetAlternativeConstructor', '_SetSupersedingClass', '_SetValidationConfig', '_SupersedingClass', '_TypeBinding_mixin__AttributesFromDOM', '_TypeBinding_mixin__WarnedUnassociatedElement', '_TypeBinding_mixin__checkNilCtor', '_TypeBinding_mixin__constructedWithValue', '_TypeBinding_mixin__element', '_TypeBinding_mixin__getValidationConfig', '_TypeBinding_mixin__namespaceContext', '_TypeBinding_mixin__xsiNil', '_TypeDefinition', '_UseForTag', '_XSDLocation', '__class__', '__delattr__', '__dict__', '__doc__', '__format__', '__getattribute__', '__hash__', '__httpddex_netxmlern36_CTD_ANON_BusinessProfileVersionId', '__httpddex_netxmlern36_CTD_ANON_CatalogTransfer', '__httpddex_netxmlern36_CTD_ANON_CollectionList', '__httpddex_netxmlern36_CTD_ANON_CueSheetList', '__httpddex_netxmlern36_CTD_ANON_DealList', '__httpddex_netxmlern36_CTD_ANON_IsBackfill', '__httpddex_netxmlern36_CTD_ANON_LanguageAndScriptCode', '__httpddex_netxmlern36_CTD_ANON_MessageHeader', '__httpddex_netxmlern36_CTD_ANON_MessageSchemaVersionId', '__httpddex_netxmlern36_CTD_ANON_ReleaseList', '__httpddex_netxmlern36_CTD_ANON_ReleaseProfileVersionId', '__httpddex_netxmlern36_CTD_ANON_ResourceList', '__httpddex_netxmlern36_CTD_ANON_UpdateIndicator', '__httpddex_netxmlern36_CTD_ANON_WorkList', '__init__', '__module__', '__new__', '__reduce__', '__reduce_ex__', '__repr__', '__setattr__', '__sizeof__', '__str__', '__subclasshook__', '__weakref__', '_addContent', '_appendWildcardElement', '_automatonConfiguration', '_complexTypeDefinition__NeedWarnOnContent', '_complexTypeDefinition__WarnOnContent', '_complexTypeDefinition__automatonConfiguration', '_complexTypeDefinition__childrenForDOM', '_complexTypeDefinition__content', '_complexTypeDefinition__setContent', '_complexTypeDefinition__wildcardAttributeMap', '_complexTypeDefinition__wildcardElements', '_constructedWithValue', '_description', '_diagnosticName', '_element', '_finalizeContentModel', '_isNil', '_location', '_namespaceContext', '_performValidation', '_postDOMValidate', '_postFactory_vx', '_resetAutomaton', '_resetContent', '_setAttribute', '_setAttributesFromKeywordsAndDOM', '_setDOMFromAttributes', '_setElement', '_setIsNil', '_setLocation', '_setNamespaceContext', '_setValidationConfig', '_setValue', '_substitutesFor', '_symbolSet', '_toDOM_csc', '_validateAttributes', '_validateBinding_vx', '_validatedChildren', '_validationConfig', '_validationConfig_', 'append', 'content', 'extend', 'orderedContent', 'reset', 'toDOM', 'toxml', 'validateBinding', 'value', 'wildcardAttributeMap', 'wildcardElements', 'xsdConstraintsOK']\n"
     ]
    }
   ],
   "source": [
    "# Underlying ddex data structure. Complex, right?\n",
    "\n",
    "print ddex\n",
    "print dir(ddex)"
   ]
  },
  {
   "cell_type": "code",
   "execution_count": 3,
   "metadata": {
    "collapsed": false
   },
   "outputs": [
    {
     "data": {
      "text/plain": [
       "['CollectionList',\n",
       " 'CatalogTransfer',\n",
       " 'ReleaseList',\n",
       " 'UpdateIndicator',\n",
       " 'ReleaseProfileVersionId',\n",
       " 'BusinessProfileVersionId',\n",
       " 'MessageSchemaVersionId',\n",
       " 'LanguageAndScriptCode',\n",
       " 'MessageHeader',\n",
       " 'ResourceList',\n",
       " 'CueSheetList',\n",
       " 'WorkList',\n",
       " 'IsBackfill',\n",
       " 'DealList']"
      ]
     },
     "execution_count": 3,
     "metadata": {},
     "output_type": "execute_result"
    }
   ],
   "source": [
    "# Level 1 keys\n",
    "\n",
    "ddex_dict.keys()"
   ]
  },
  {
   "cell_type": "markdown",
   "metadata": {},
   "source": [
    "# Message version"
   ]
  },
  {
   "cell_type": "code",
   "execution_count": 4,
   "metadata": {
    "collapsed": false
   },
   "outputs": [
    {
     "data": {
      "text/plain": [
       "u'ern/36'"
      ]
     },
     "execution_count": 4,
     "metadata": {},
     "output_type": "execute_result"
    }
   ],
   "source": [
    "ddex_dict['MessageSchemaVersionId']"
   ]
  },
  {
   "cell_type": "markdown",
   "metadata": {},
   "source": [
    "# Message header"
   ]
  },
  {
   "cell_type": "code",
   "execution_count": 5,
   "metadata": {
    "collapsed": false
   },
   "outputs": [
    {
     "data": {
      "text/plain": [
       "{'Comment': None,\n",
       " 'LanguageAndScriptCode': None,\n",
       " 'MessageAuditTrail': None,\n",
       " 'MessageControlType': u'TestMessage',\n",
       " 'MessageCreatedDateTime': dateTime(1, 1, 1, 0, 0),\n",
       " 'MessageFileName': u'VideoSingle.ERN33.xml',\n",
       " 'MessageId': u'CBCDCC44-EE59-482b-B3CA-02986E6870EC',\n",
       " 'MessageRecipient': {'LanguageAndScriptCode': None,\n",
       "  'PartyId': [{'IsDPID': None, 'IsISNI': None, 'Namespace_': None}],\n",
       "  'PartyName': None,\n",
       "  'TradingName': u'Lamson Digital Distribution'},\n",
       " 'MessageSender': {'LanguageAndScriptCode': None,\n",
       "  'PartyId': [{'IsDPID': None, 'IsISNI': None, 'Namespace_': None}],\n",
       "  'PartyName': None,\n",
       "  'TradingName': u'Iron Crown Music'},\n",
       " 'MessageThreadId': u'CBCDCC44-EE59-482b-B3CA-02986E6870EC',\n",
       " 'SentOnBehalfOf': None}"
      ]
     },
     "execution_count": 5,
     "metadata": {},
     "output_type": "execute_result"
    }
   ],
   "source": [
    "ddex_dict['MessageHeader']"
   ]
  },
  {
   "cell_type": "markdown",
   "metadata": {},
   "source": [
    "# Update indicator"
   ]
  },
  {
   "cell_type": "code",
   "execution_count": 6,
   "metadata": {
    "collapsed": false
   },
   "outputs": [
    {
     "data": {
      "text/plain": [
       "u'OriginalMessage'"
      ]
     },
     "execution_count": 6,
     "metadata": {},
     "output_type": "execute_result"
    }
   ],
   "source": [
    "ddex_dict['UpdateIndicator']"
   ]
  },
  {
   "cell_type": "markdown",
   "metadata": {},
   "source": [
    "# Resource list"
   ]
  },
  {
   "cell_type": "code",
   "execution_count": 7,
   "metadata": {
    "collapsed": false
   },
   "outputs": [
    {
     "data": {
      "text/plain": [
       "{'Image': [{'CreationDate': None,\n",
       "   'ImageDetailsByTerritory': [{'CLine': [],\n",
       "     'CourtesyLine': None,\n",
       "     'Description': None,\n",
       "     'ExcludedTerritoryCode': [],\n",
       "     'FulfillmentDate': None,\n",
       "     'Genre': [],\n",
       "     'IndirectResourceContributor': [],\n",
       "     'Keywords': [],\n",
       "     'LanguageAndScriptCode': None,\n",
       "     'OriginalResourceReleaseDate': None,\n",
       "     'ParentalWarningType': [{'Namespace_': None, 'UserDefinedValue': None}],\n",
       "     'ResourceContributor': [],\n",
       "     'Synopsis': None,\n",
       "     'TechnicalImageDetails': [{'AspectRatio': None,\n",
       "       'ColorDepth': None,\n",
       "       'ConsumerFulfillmentDate': None,\n",
       "       'ContainerFormat': None,\n",
       "       'DrmPlatformType': None,\n",
       "       'File': [{'FileName': u'A1UCASE0000000007X_01_01.jpeg',\n",
       "         'FilePath': None,\n",
       "         'HashSum': None,\n",
       "         'URL': None}],\n",
       "       'FileAvailabilityDescription': [],\n",
       "       'Fingerprint': [],\n",
       "       'FulfillmentDate': None,\n",
       "       'ImageCodecType': None,\n",
       "       'ImageHeight': None,\n",
       "       'ImageResolution': None,\n",
       "       'ImageWidth': None,\n",
       "       'IsPreview': None,\n",
       "       'LanguageAndScriptCode': None,\n",
       "       'PreviewDetails': None,\n",
       "       'TechnicalResourceDetailsReference': u'T2'}],\n",
       "     'TerritoryCode': [u'Worldwide']}],\n",
       "   'ImageId': [{'IsReplaced': None,\n",
       "     'ProprietaryId': [{'Namespace_': u'DPID:PADPIDA0000000001A'}]}],\n",
       "   'ImageType': u'VideoScreenCapture',\n",
       "   'IsArtistRelated': None,\n",
       "   'IsUpdated': None,\n",
       "   'LanguageAndScriptCode': None,\n",
       "   'ResourceReference': u'A2',\n",
       "   'Title': []}],\n",
       " 'LanguageAndScriptCode': None,\n",
       " 'MIDI': [],\n",
       " 'SheetMusic': [],\n",
       " 'Software': [],\n",
       " 'SoundRecording': [],\n",
       " 'Text': [],\n",
       " 'UserDefinedResource': [],\n",
       " 'Video': [{'CreationDate': None,\n",
       "   'Duration': duration(0, 1201),\n",
       "   'HasPreOrderFulfillment': None,\n",
       "   'IndirectVideoId': [],\n",
       "   'InstrumentationDescription': None,\n",
       "   'IsArtistRelated': None,\n",
       "   'IsBackground': None,\n",
       "   'IsBonusResource': None,\n",
       "   'IsHiddenResource': None,\n",
       "   'IsInstrumental': None,\n",
       "   'IsMedley': None,\n",
       "   'IsPotpourri': None,\n",
       "   'IsRemastered': None,\n",
       "   'IsUpdated': None,\n",
       "   'LanguageAndScriptCode': None,\n",
       "   'LanguageOfDubbing': [],\n",
       "   'LanguageOfPerformance': [],\n",
       "   'MasteredDate': None,\n",
       "   'NoSilenceAfter': None,\n",
       "   'NoSilenceBefore': None,\n",
       "   'NumberOfContractedArtists': None,\n",
       "   'NumberOfFeaturedArtists': None,\n",
       "   'NumberOfNonContractedArtists': None,\n",
       "   'NumberOfNonFeaturedArtists': None,\n",
       "   'PerformerInformationRequired': None,\n",
       "   'ReasonForCueSheetAbsence': None,\n",
       "   'ReferenceTitle': {'LanguageAndScriptCode': None,\n",
       "    'SubTitle': u'Live at Budokan',\n",
       "    'TitleText': u'Can you feel ...the Monkey Claw!'},\n",
       "   'ResourceContainedResourceReferenceList': None,\n",
       "   'ResourceMusicalWorkReferenceList': None,\n",
       "   'ResourceReference': u'A1',\n",
       "   'RightsAgreementId': None,\n",
       "   'SubTitleLanguage': [],\n",
       "   'TerritoryOfCommissioning': None,\n",
       "   'Title': [],\n",
       "   'VideoCollectionReferenceList': None,\n",
       "   'VideoCueSheetReference': [],\n",
       "   'VideoDetailsByTerritory': [{'AvRating': [],\n",
       "     'CLine': [],\n",
       "     'Character': [],\n",
       "     'CourtesyLine': None,\n",
       "     'DisplayArtist': [{'ArtistRole': [{'Namespace_': None,\n",
       "         'UserDefinedValue': None}],\n",
       "       'PartyId': [],\n",
       "       'PartyName': [{'AbbreviatedName': None,\n",
       "         'FullName': u'Monkey Claw',\n",
       "         'FullNameAsciiTranscribed': None,\n",
       "         'FullNameIndexed': None,\n",
       "         'KeyName': None,\n",
       "         'LanguageAndScriptCode': None,\n",
       "         'NamesAfterKeyName': None,\n",
       "         'NamesBeforeKeyName': None}],\n",
       "       'SequenceNumber': 1L}],\n",
       "     'DisplayConductor': [],\n",
       "     'ExcludedTerritoryCode': [],\n",
       "     'FulfillmentDate': None,\n",
       "     'Genre': [{'GenreText': u'Metal',\n",
       "       'LanguageAndScriptCode': None,\n",
       "       'SubGenre': u'Progressive Metal'}],\n",
       "     'HostSoundCarrier': [],\n",
       "     'IndirectResourceContributor': [],\n",
       "     'Keywords': [],\n",
       "     'LabelName': [],\n",
       "     'LanguageAndScriptCode': None,\n",
       "     'MarketingComment': None,\n",
       "     'OriginalResourceReleaseDate': None,\n",
       "     'PLine': [{'LanguageAndScriptCode': None,\n",
       "       'PLineCompany': None,\n",
       "       'PLineText': u'(P) 2010 Iron Crown Music',\n",
       "       'PLineType': None,\n",
       "       'Year': gYear(2010, 1, 1, 0, 0)}],\n",
       "     'ParentalWarningType': [{'Namespace_': None, 'UserDefinedValue': None}],\n",
       "     'RemasteredDate': None,\n",
       "     'ResourceContributor': [],\n",
       "     'RightsAgreementId': None,\n",
       "     'RightsController': [],\n",
       "     'SequenceNumber': None,\n",
       "     'Synopsis': None,\n",
       "     'TechnicalVideoDetails': [{'AspectRatio': None,\n",
       "       'AudioBitRate': None,\n",
       "       'AudioBitsPerSample': None,\n",
       "       'AudioCodecType': None,\n",
       "       'AudioSamplingRate': None,\n",
       "       'ColorDepth': None,\n",
       "       'ConsumerFulfillmentDate': None,\n",
       "       'ContainerFormat': None,\n",
       "       'DrmPlatformType': None,\n",
       "       'Duration': None,\n",
       "       'File': [{'FileName': u'A1UCASE0000000007X_01_01.mpeg',\n",
       "         'FilePath': None,\n",
       "         'HashSum': None,\n",
       "         'URL': None}],\n",
       "       'FileAvailabilityDescription': [],\n",
       "       'Fingerprint': [],\n",
       "       'FrameRate': None,\n",
       "       'FulfillmentDate': None,\n",
       "       'ImageHeight': None,\n",
       "       'ImageWidth': None,\n",
       "       'IsPreview': None,\n",
       "       'LanguageAndScriptCode': None,\n",
       "       'NumberOfAudioChannels': None,\n",
       "       'OverallBitRate': None,\n",
       "       'PreviewDetails': None,\n",
       "       'ResourceProcessingRequired': None,\n",
       "       'TechnicalResourceDetailsReference': u'T1',\n",
       "       'UsableResourceDuration': None,\n",
       "       'VideoBitRate': None,\n",
       "       'VideoCodecType': None,\n",
       "       'VideoDefinitionType': None}],\n",
       "     'TerritoryCode': [u'Worldwide'],\n",
       "     'Title': [{'LanguageAndScriptCode': None,\n",
       "       'SubTitle': [{'LanguageAndScriptCode': None, 'SubTitleType': None}],\n",
       "       'TitleText': u'Can you feel ...the Monkey Claw!',\n",
       "       'TitleType': u'FormalTitle'},\n",
       "      {'LanguageAndScriptCode': None,\n",
       "       'SubTitle': [],\n",
       "       'TitleText': u'Can you feel ...the Monkey Claw! (Live at Budokan)',\n",
       "       'TitleType': u'DisplayTitle'},\n",
       "      {'LanguageAndScriptCode': u'ja',\n",
       "       'SubTitle': [{'LanguageAndScriptCode': None, 'SubTitleType': None}],\n",
       "       'TitleText': u'\\u30ad\\u30e3\\u30f3\\u30fb\\u30e6\\u30fc\\u30fb\\u30d5\\u30a3\\u30fc\\u30eb\\uff0e\\uff0e\\uff0e\\u30b6\\u30fb\\u30e2\\u30f3\\u30ad\\u30fc\\u30fb\\u30af\\u30ed\\u30fc\\uff01',\n",
       "       'TitleType': u'TranslatedTitle'},\n",
       "      {'LanguageAndScriptCode': u'ja-Kana',\n",
       "       'SubTitle': [{'LanguageAndScriptCode': None, 'SubTitleType': None}],\n",
       "       'TitleText': u'\\u30ad\\u30e3\\u30f3\\u30fb\\u30e6\\u30fc\\u30fb\\u30d5\\u30a3\\u30fc\\u30eb\\u2026\\u30b6\\u30fb\\u30e2\\u30f3\\u30ad\\u30fc\\u30fb\\u30af\\u30ed\\u30fc! ',\n",
       "       'TitleType': u'TranslatedTitle'}]}],\n",
       "   'VideoId': [{'CatalogNumber': None,\n",
       "     'ISAN': None,\n",
       "     'ISRC': u'CASE00000007',\n",
       "     'IsReplaced': None,\n",
       "     'ProprietaryId': [],\n",
       "     'VISAN': None}],\n",
       "   'VideoType': u'ShortFormMusicalWorkVideo'}]}"
      ]
     },
     "execution_count": 7,
     "metadata": {},
     "output_type": "execute_result"
    }
   ],
   "source": [
    "ddex_dict['ResourceList']"
   ]
  }
 ],
 "metadata": {
  "kernelspec": {
   "display_name": "Python 2",
   "language": "python",
   "name": "python2"
  },
  "language_info": {
   "codemirror_mode": {
    "name": "ipython",
    "version": 2
   },
   "file_extension": ".py",
   "mimetype": "text/x-python",
   "name": "python",
   "nbconvert_exporter": "python",
   "pygments_lexer": "ipython2",
   "version": "2.7.6"
  }
 },
 "nbformat": 4,
 "nbformat_minor": 0
}
